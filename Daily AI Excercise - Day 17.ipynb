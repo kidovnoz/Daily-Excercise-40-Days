{
 "cells": [
  {
   "cell_type": "code",
   "execution_count": 12,
   "metadata": {},
   "outputs": [
    {
     "name": "stdout",
     "output_type": "stream",
     "text": [
      "[(1, 3), (2, 6), (3, 9)]\n"
     ]
    }
   ],
   "source": [
    "lst_data = [[1,2,3],[4,5,6],[7,8,9]]\n",
    "lst_sub_data = []\n",
    "for i in range(len(lst_data)):\n",
    "    new_lst_data = lst_data[0][i],lst_data[i][2]\n",
    "    lst_sub_data.append(new_lst_data)\n",
    "print(lst_sub_data)"
   ]
  }
 ],
 "metadata": {
  "kernelspec": {
   "display_name": "learntoho",
   "language": "python",
   "name": "python3"
  },
  "language_info": {
   "codemirror_mode": {
    "name": "ipython",
    "version": 3
   },
   "file_extension": ".py",
   "mimetype": "text/x-python",
   "name": "python",
   "nbconvert_exporter": "python",
   "pygments_lexer": "ipython3",
   "version": "3.9.16"
  }
 },
 "nbformat": 4,
 "nbformat_minor": 2
}
