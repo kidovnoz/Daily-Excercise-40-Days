{
 "cells": [
  {
   "cell_type": "code",
   "execution_count": 11,
   "metadata": {},
   "outputs": [
    {
     "name": "stdout",
     "output_type": "stream",
     "text": [
      "2\n",
      "[2, 4, 6]\n"
     ]
    }
   ],
   "source": [
    "lst_data = [1,1.1,None,1.4,None,1.5,None,2.0]\n",
    "lst_None = []\n",
    "for idx,val in enumerate ((lst_data)):\n",
    "    if val == None:\n",
    "        lst_None.append(idx)\n",
    "print(lst_None[0])\n",
    "print(lst_None)"
   ]
  }
 ],
 "metadata": {
  "kernelspec": {
   "display_name": "learntoho",
   "language": "python",
   "name": "python3"
  },
  "language_info": {
   "codemirror_mode": {
    "name": "ipython",
    "version": 3
   },
   "file_extension": ".py",
   "mimetype": "text/x-python",
   "name": "python",
   "nbconvert_exporter": "python",
   "pygments_lexer": "ipython3",
   "version": "3.9.16"
  }
 },
 "nbformat": 4,
 "nbformat_minor": 2
}
