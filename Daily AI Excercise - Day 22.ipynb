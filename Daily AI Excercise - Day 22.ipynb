{
 "cells": [
  {
   "cell_type": "code",
   "execution_count": 12,
   "metadata": {},
   "outputs": [
    {
     "name": "stdout",
     "output_type": "stream",
     "text": [
      "266\n",
      "32\n",
      "96\n"
     ]
    }
   ],
   "source": [
    "import random\n",
    "def random_number_with_condition(total):\n",
    "    # Set the random value that is same between devices\n",
    "    random.seed(0)\n",
    "    sum_ab = 0\n",
    "    count = 0\n",
    "    while sum_ab != total:\n",
    "        a = random.randint(1, 20)\n",
    "        b = random.randint(1, 20)\n",
    "        sum_ab = a + b\n",
    "        count += 1\n",
    "    return count\n",
    "print(random_number_with_condition(40))\n",
    "print(random_number_with_condition(20))\n",
    "print(random_number_with_condition(35))\n"
   ]
  },
  {
   "cell_type": "code",
   "execution_count": 15,
   "metadata": {},
   "outputs": [
    {
     "name": "stdout",
     "output_type": "stream",
     "text": [
      "105\n",
      "102\n"
     ]
    }
   ],
   "source": [
    "def find_divisible_number(a):\n",
    "    number = 101\n",
    "    while number % a != 0 :\n",
    "        number +=1\n",
    "    return number\n",
    "print(find_divisible_number(5))\n",
    "print(find_divisible_number(17))"
   ]
  },
  {
   "cell_type": "code",
   "execution_count": null,
   "metadata": {},
   "outputs": [],
   "source": []
  }
 ],
 "metadata": {
  "kernelspec": {
   "display_name": "learntoho",
   "language": "python",
   "name": "python3"
  },
  "language_info": {
   "codemirror_mode": {
    "name": "ipython",
    "version": 3
   },
   "file_extension": ".py",
   "mimetype": "text/x-python",
   "name": "python",
   "nbconvert_exporter": "python",
   "pygments_lexer": "ipython3",
   "version": "3.9.16"
  }
 },
 "nbformat": 4,
 "nbformat_minor": 2
}
