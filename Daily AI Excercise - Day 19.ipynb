{
 "cells": [
  {
   "cell_type": "code",
   "execution_count": 51,
   "metadata": {},
   "outputs": [
    {
     "name": "stdout",
     "output_type": "stream",
     "text": [
      "1-2-3-4-5-6-7-8-9-10\n"
     ]
    }
   ],
   "source": [
    "lst_data = (range(1,11))\n",
    "#dùng for thông thường\n",
    "new_lst = \"\"\n",
    "for idx in range(len(lst_data)):\n",
    "    if idx == 0:\n",
    "        new_lst = new_lst + str(lst_data[idx])\n",
    "    else:\n",
    "        new_lst = new_lst + \"-\" +str(lst_data[idx])\n",
    "#dùng hàm nối kí tự join và comprehension\n",
    "with open(\"test.txt\", \"w\") as f:\n",
    "    f.write(\"-\".join(str(i) for i in (lst_data))) # join nối các phần tử trong iterable\n",
    "with open(\"test.txt\", \"r\") as f:\n",
    "    reslut = f.read()\n",
    "print(reslut)\n"
   ]
  },
  {
   "cell_type": "code",
   "execution_count": 52,
   "metadata": {},
   "outputs": [
    {
     "name": "stdout",
     "output_type": "stream",
     "text": [
      "[3, 6, 9]\n",
      "[3, 6, 9]\n"
     ]
    }
   ],
   "source": [
    "# dùng comprehension\n",
    "with open(\"test.txt\") as f:\n",
    "    read_lst = f.read().split(\"-\")\n",
    "num_list = [int(num) for num in read_lst]\n",
    "reslut = [i for i in num_list if i % 3 == 0]  \n",
    "print(reslut)  \n",
    "reslut2 = []\n",
    "# dùng for thông thường\n",
    "for idx in (read_lst):\n",
    "    if int(idx) % 3 == 0:\n",
    "        reslut2.append(int(idx))\n",
    "print(reslut2)\n",
    "\n"
   ]
  }
 ],
 "metadata": {
  "kernelspec": {
   "display_name": "learntoho",
   "language": "python",
   "name": "python3"
  },
  "language_info": {
   "codemirror_mode": {
    "name": "ipython",
    "version": 3
   },
   "file_extension": ".py",
   "mimetype": "text/x-python",
   "name": "python",
   "nbconvert_exporter": "python",
   "pygments_lexer": "ipython3",
   "version": "3.9.16"
  }
 },
 "nbformat": 4,
 "nbformat_minor": 2
}
