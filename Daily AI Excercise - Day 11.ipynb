{
 "cells": [
  {
   "cell_type": "code",
   "execution_count": 82,
   "metadata": {},
   "outputs": [
    {
     "name": "stdout",
     "output_type": "stream",
     "text": [
      "['ai', 'am', 'thich', 'toan', 'nhac', 'mon', 'toi']\n"
     ]
    }
   ],
   "source": [
    "corpus = [\"Toi thich mon Toan\",\n",
    "          \"Toi thich AI\",\n",
    "          \"Toi thich am nhac\"]\n",
    "vector = []\n",
    "for i in corpus:\n",
    "    for j in i.lower().split(\" \"):\n",
    "        vector.append(j)\n",
    "vector_tokenization = list(set(vector))\n",
    "\n",
    "print(vector_tokenization)"
   ]
  },
  {
   "cell_type": "code",
   "execution_count": 81,
   "metadata": {},
   "outputs": [
    {
     "name": "stdout",
     "output_type": "stream",
     "text": [
      "['ai', 'am', 'thich', 'toan', 'nhac', 'mon', 'toi']\n",
      "[1, 0, 2, 1, 0, 0, 1]\n"
     ]
    }
   ],
   "source": [
    "result = []\n",
    "given_string = \"Toi thich AI thich Toan\"\n",
    "given = given_string.lower().split()\n",
    "result = [given.count(word) for word in vector_tokenization] # đếm số từ trong loop word in vector_tokenization\n",
    "print(vector_tokenization)   \n",
    "print(result)"
   ]
  },
  {
   "cell_type": "code",
   "execution_count": null,
   "metadata": {},
   "outputs": [],
   "source": []
  }
 ],
 "metadata": {
  "kernelspec": {
   "display_name": "learntoho",
   "language": "python",
   "name": "python3"
  },
  "language_info": {
   "codemirror_mode": {
    "name": "ipython",
    "version": 3
   },
   "file_extension": ".py",
   "mimetype": "text/x-python",
   "name": "python",
   "nbconvert_exporter": "python",
   "pygments_lexer": "ipython3",
   "version": "3.9.16"
  }
 },
 "nbformat": 4,
 "nbformat_minor": 2
}
