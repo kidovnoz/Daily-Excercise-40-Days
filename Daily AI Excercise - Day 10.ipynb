{
  "nbformat": 4,
  "nbformat_minor": 0,
  "metadata": {
    "colab": {
      "provenance": [],
      "gpuType": "T4"
    },
    "kernelspec": {
      "name": "python3",
      "display_name": "Python 3"
    },
    "language_info": {
      "name": "python"
    },
    "accelerator": "GPU"
  },
  "cells": [
    {
      "cell_type": "code",
      "execution_count": 1,
      "metadata": {
        "id": "a6TYUkb7zgou"
      },
      "outputs": [],
      "source": [
        "import numpy as np\n",
        "import torch\n",
        "import tensorflow as tf"
      ]
    },
    {
      "cell_type": "code",
      "source": [
        "list_data = [1,2,3,4,5,6,7,8,9,10]\n",
        "\n",
        "list_numpy = np.array(list_data)\n",
        "print(\"Array Numpy:\\n \",list_numpy,type(list_numpy))"
      ],
      "metadata": {
        "colab": {
          "base_uri": "https://localhost:8080/"
        },
        "id": "3OUtD-pvzuqE",
        "outputId": "26a44760-0bfe-4817-f691-aa883b92d112"
      },
      "execution_count": 6,
      "outputs": [
        {
          "output_type": "stream",
          "name": "stdout",
          "text": [
            "Array Numpy:\n",
            "  [ 1  2  3  4  5  6  7  8  9 10] <class 'numpy.ndarray'>\n"
          ]
        }
      ]
    },
    {
      "cell_type": "code",
      "source": [
        "#pytorch tensor\n",
        "tensor_1D_pt = torch.tensor(list_data)\n",
        "print(tensor_1D_pt)"
      ],
      "metadata": {
        "colab": {
          "base_uri": "https://localhost:8080/"
        },
        "id": "10wnMIq90Tnx",
        "outputId": "e57676ee-47fe-4fb9-cf74-fb2fc22ed1be"
      },
      "execution_count": 11,
      "outputs": [
        {
          "output_type": "stream",
          "name": "stdout",
          "text": [
            "tensor([ 1,  2,  3,  4,  5,  6,  7,  8,  9, 10])\n"
          ]
        }
      ]
    },
    {
      "cell_type": "code",
      "source": [
        "#tensorflow\n",
        "tensor_1D_tf = tf.convert_to_tensor(list_data) #1\n",
        "print(tensor_1D_tf)\n",
        "tensor_1D_tf_cst = tf.constant(list_data) #2                        #1 == #2\n",
        "print(tensor_1D_tf_cst)"
      ],
      "metadata": {
        "colab": {
          "base_uri": "https://localhost:8080/"
        },
        "id": "EGnoq8hA0kwh",
        "outputId": "08f355fd-7b30-4b4a-dc20-906b0b3298f2"
      },
      "execution_count": 17,
      "outputs": [
        {
          "output_type": "stream",
          "name": "stdout",
          "text": [
            "tf.Tensor([ 1  2  3  4  5  6  7  8  9 10], shape=(10,), dtype=int32)\n",
            "tf.Tensor([ 1  2  3  4  5  6  7  8  9 10], shape=(10,), dtype=int32)\n"
          ]
        }
      ]
    },
    {
      "cell_type": "markdown",
      "source": [
        "Create 2D array == numpy,pytorch,tensorflow"
      ],
      "metadata": {
        "id": "9orWgf-b1hbR"
      }
    },
    {
      "cell_type": "code",
      "source": [
        "list_2D = [[1,2,3],\n",
        "           [3,4,5],\n",
        "           [6,7,8]]"
      ],
      "metadata": {
        "id": "Z6TL-V_q1fcd"
      },
      "execution_count": 2,
      "outputs": []
    },
    {
      "cell_type": "code",
      "source": [
        "#using numpy\n",
        "arr_2D = np.array(list_2D)\n",
        "print(arr_2D)\n",
        "print(\"Hinh dang mang\", arr_2D.shape)\n",
        "print(\"Kieu du lieu mang\", arr_2D.dtype)\n",
        "print(\"Loai cua mang\", type(arr_2D))\n"
      ],
      "metadata": {
        "colab": {
          "base_uri": "https://localhost:8080/"
        },
        "id": "AJSTfpGf15__",
        "outputId": "ff66845f-6982-4c71-dd57-2b40494203ce"
      },
      "execution_count": 5,
      "outputs": [
        {
          "output_type": "stream",
          "name": "stdout",
          "text": [
            "[[1 2 3]\n",
            " [3 4 5]\n",
            " [6 7 8]]\n",
            "Hinh dang mang (3, 3)\n",
            "Kieu du lieu mang int64\n",
            "Loai cua mang <class 'numpy.ndarray'>\n"
          ]
        }
      ]
    },
    {
      "cell_type": "code",
      "source": [
        "#using pytorch\n",
        "arr_2D_pt = torch.tensor(list_2D)\n",
        "print(arr_2D_pt)\n",
        "print(\"Hinh dang mang\", arr_2D_pt.shape)\n",
        "print(\"Kieu du lieu mang\",arr_2D_pt.dtype)\n",
        "print(\"Loai cua mang\", type(arr_2D_pt))\n",
        "print(\"Thiet bi ma tensor luu tru\",arr_2D_pt.device)"
      ],
      "metadata": {
        "colab": {
          "base_uri": "https://localhost:8080/"
        },
        "id": "rBmtpAT02rvf",
        "outputId": "b796f5ef-83aa-497a-bcbc-6ff0ff1cb8fb"
      },
      "execution_count": 3,
      "outputs": [
        {
          "output_type": "stream",
          "name": "stdout",
          "text": [
            "tensor([[1, 2, 3],\n",
            "        [3, 4, 5],\n",
            "        [6, 7, 8]])\n",
            "Hinh dang mang torch.Size([3, 3])\n",
            "Kieu du lieu mang torch.int64\n",
            "Loai cua mang <class 'torch.Tensor'>\n",
            "Thiet bi ma tensor luu tru cpu\n"
          ]
        }
      ]
    },
    {
      "cell_type": "code",
      "source": [
        "#using tensorflow\n",
        "arr_2D_tf = tf.convert_to_tensor(arr_2D)\n",
        "print(arr_2D_tf)\n",
        "print(\"Hinh dang mang\", arr_2D_tf.shape)\n",
        "print(\"Kieu du lieu mang\",arr_2D_tf.dtype)\n",
        "print(\"Loai cua mang\", type(arr_2D_tf))\n",
        "print(\"Thiet bi ma tensor luu tru\",arr_2D_tf.device)"
      ],
      "metadata": {
        "colab": {
          "base_uri": "https://localhost:8080/"
        },
        "id": "uwkTRXop3SKV",
        "outputId": "3477ecc6-1f11-4960-c0e9-eb7bf11bcee9"
      },
      "execution_count": 6,
      "outputs": [
        {
          "output_type": "stream",
          "name": "stdout",
          "text": [
            "tf.Tensor(\n",
            "[[1 2 3]\n",
            " [3 4 5]\n",
            " [6 7 8]], shape=(3, 3), dtype=int64)\n",
            "Hinh dang mang (3, 3)\n",
            "Kieu du lieu mang <dtype: 'int64'>\n",
            "Loai cua mang <class 'tensorflow.python.framework.ops.EagerTensor'>\n",
            "Thiet bi ma tensor luu tru /job:localhost/replica:0/task:0/device:GPU:0\n"
          ]
        }
      ]
    }
  ]
}