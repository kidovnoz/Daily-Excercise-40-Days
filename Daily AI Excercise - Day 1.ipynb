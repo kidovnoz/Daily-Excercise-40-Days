{
 "cells": [
  {
   "cell_type": "code",
   "execution_count": 33,
   "id": "65b0b5af",
   "metadata": {},
   "outputs": [],
   "source": [
    "def  calculate_can_chi_canlendar(year):\n",
    "    result = ''\n",
    "    can = [\"Canh\",\"Tan\",\"Nham\",\"Quy\",\"Giap\",\"At\",\"Binh\",\"Dinh\",\"Mau\",\"Ky\"]\n",
    "    chi = [\"Than\",\"Dau\",\"Tuat\",\"Hoi\",\"Ty\",\"Suu\",\"Dan\",\"Meo\",\"Thin\",\"Ngo\",\"Mui\"]\n",
    "    result = can[year%10] +\" \"+ chi[year%12]\n",
    "    print(year%10, year%12)\n",
    "    return result"
   ]
  },
  {
   "cell_type": "code",
   "execution_count": 34,
   "id": "6a87fbd0",
   "metadata": {},
   "outputs": [
    {
     "name": "stdout",
     "output_type": "stream",
     "text": [
      "7 5\n",
      "Dinh Suu\n"
     ]
    }
   ],
   "source": [
    "year = 1997\n",
    "print(calculate_can_chi_canlendar(year))\n"
   ]
  },
  {
   "cell_type": "code",
   "execution_count": null,
   "id": "69e397cc",
   "metadata": {},
   "outputs": [],
   "source": []
  },
  {
   "cell_type": "code",
   "execution_count": null,
   "id": "fe6a487d",
   "metadata": {},
   "outputs": [],
   "source": []
  },
  {
   "cell_type": "code",
   "execution_count": null,
   "id": "7228ccef",
   "metadata": {},
   "outputs": [],
   "source": []
  }
 ],
 "metadata": {
  "kernelspec": {
   "display_name": "Python 3 (ipykernel)",
   "language": "python",
   "name": "python3"
  },
  "language_info": {
   "codemirror_mode": {
    "name": "ipython",
    "version": 3
   },
   "file_extension": ".py",
   "mimetype": "text/x-python",
   "name": "python",
   "nbconvert_exporter": "python",
   "pygments_lexer": "ipython3",
   "version": "3.9.13"
  }
 },
 "nbformat": 4,
 "nbformat_minor": 5
}
