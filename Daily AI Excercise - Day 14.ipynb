{
 "cells": [
  {
   "cell_type": "code",
   "execution_count": 6,
   "metadata": {},
   "outputs": [
    {
     "name": "stdout",
     "output_type": "stream",
     "text": [
      "array 1: \n",
      " [[1 2]\n",
      " [3 4]]\n",
      "sau khi chuyển bị bằng np.transpose: \n",
      " [[1 3]\n",
      " [2 4]]\n",
      "Sau khi dùng toán tử T: \n",
      " [[1 3]\n",
      " [2 4]]\n"
     ]
    }
   ],
   "source": [
    "import numpy as np \n",
    "\n",
    "arr_1 = np.array([[1, 2],[3, 4]])\n",
    "#Chuyển vị sử dụng hàm np.transpose\n",
    "arr_transposed_1 = np.transpose(arr_1)\n",
    "#Sử dụng toán tử T\n",
    "arr_transposed_2 = arr_1.T\n",
    "\n",
    "#In ra màn hình\n",
    "print(\"array 1: \\n\",arr_1)\n",
    "print(\"sau khi chuyển bị bằng np.transpose: \\n\",arr_transposed_1)\n",
    "print(\"Sau khi dùng toán tử T: \\n\",arr_transposed_2)"
   ]
  },
  {
   "cell_type": "markdown",
   "metadata": {},
   "source": [
    "Using famework pytorch for transposed matrix"
   ]
  },
  {
   "cell_type": "code",
   "execution_count": 10,
   "metadata": {},
   "outputs": [
    {
     "name": "stdout",
     "output_type": "stream",
     "text": [
      "tensor 1: \n",
      " tensor([[1, 2],\n",
      "        [3, 4]])\n",
      "Chuyển vị bằng hàm torch.t: \n",
      " tensor([[1, 3],\n",
      "        [2, 4]])\n",
      "Chuyển vị bằng hàm torch.transpose: \n",
      " tensor([[1, 3],\n",
      "        [2, 4]])\n"
     ]
    }
   ],
   "source": [
    "import torch\n",
    "\n",
    "tensor_1 = torch.tensor([[1, 2], [3, 4]])\n",
    "#Chuyển vị tensor\n",
    "#Chuyển vị bằng hàm torch.t()\n",
    "tensor_transpose_1 = torch.t(tensor_1)\n",
    "#Chuyển vị bằng hàm torch.transpose\n",
    "tensor_transpose_2 = torch.transpose(tensor_1, 0, 1)\n",
    "\n",
    "#in ra màn hình\n",
    "print(\"tensor 1: \\n\",tensor_1)\n",
    "print(\"Chuyển vị bằng hàm torch.t: \\n\",tensor_transpose_1)\n",
    "print(\"Chuyển vị bằng hàm torch.transpose: \\n\",tensor_transpose_2)"
   ]
  },
  {
   "cell_type": "markdown",
   "metadata": {},
   "source": [
    "Using tensorflow for transposed : tf.transpose()"
   ]
  },
  {
   "cell_type": "code",
   "execution_count": 12,
   "metadata": {},
   "outputs": [
    {
     "name": "stdout",
     "output_type": "stream",
     "text": [
      "Chuyển vị bằng tensoflow: \n",
      " tf.Tensor(\n",
      "[[1 3]\n",
      " [2 4]], shape=(2, 2), dtype=int32)\n"
     ]
    }
   ],
   "source": [
    "import tensorflow as tf\n",
    "\n",
    "#tạo tensor 2d\n",
    "tensor_1_tf = tf.constant([[1,2],[3, 4]])\n",
    "#Chuyển vị tensor\n",
    "tensor_transpose_tf = tf.transpose(tensor_1_tf)\n",
    "\n",
    "#In ra màn hình\n",
    "print(\"Chuyển vị bằng tensoflow: \\n\",tensor_transpose_tf)"
   ]
  },
  {
   "cell_type": "markdown",
   "metadata": {},
   "source": [
    "Using Summation"
   ]
  },
  {
   "cell_type": "markdown",
   "metadata": {},
   "source": [
    "Using numpy for summation"
   ]
  },
  {
   "cell_type": "code",
   "execution_count": 18,
   "metadata": {},
   "outputs": [
    {
     "name": "stdout",
     "output_type": "stream",
     "text": [
      "Tính tổng tất cả phần tử trong mảng: \n",
      " 10\n",
      "Tính theo cột: \n",
      " [5 7 9]\n",
      "Tính theo hàng: \n",
      " [ 6 15]\n"
     ]
    }
   ],
   "source": [
    "arr = np.array([[1, 2, 3],\n",
    "                [4, 5, 6]])\n",
    "total_sum = np.sum(arr_1)\n",
    "\n",
    "#Compute for columm : np.sum(arr,axis = 0)\n",
    "columm_sum = np.sum(arr, axis = 0)\n",
    "\n",
    "#Compute for row: np.sum(arr, asix=1)\n",
    "row_sum = np.sum(arr, axis=1)\n",
    "\n",
    "# In ra màn hình\n",
    "print(\"Tính tổng tất cả phần tử trong mảng: \\n\",total_sum)\n",
    "print(\"Tính theo cột: \\n\",columm_sum)\n",
    "print(\"Tính theo hàng: \\n\",row_sum)"
   ]
  },
  {
   "cell_type": "markdown",
   "metadata": {},
   "source": [
    "Using Pytorch for Summation"
   ]
  },
  {
   "cell_type": "code",
   "execution_count": 22,
   "metadata": {},
   "outputs": [
    {
     "name": "stdout",
     "output_type": "stream",
     "text": [
      "Tensor: \n",
      " tensor([[1, 2],\n",
      "        [3, 4]])\n",
      "Tính tổng các phần tử trong tensor: \n",
      " tensor(10)\n",
      "Tính tổng tensor theo cột: \n",
      " tensor([4, 6])\n",
      "Tính tổng tensor theo hàng: \n",
      " tensor([3, 7])\n"
     ]
    }
   ],
   "source": [
    "tensor_1 = torch.tensor([[1, 2],[3, 4]])\n",
    "\n",
    "# Tính tổng  các phần tử trong mảng:\n",
    "total_sum = torch.sum(tensor_1)\n",
    "\n",
    "#Tính tổng tensor theo cột\n",
    "columm_tensor_sum = torch.sum(tensor_1, axis = 0)\n",
    "\n",
    "#Tính tổng tensor theo hàng\n",
    "\n",
    "row_tensor_sum = torch.sum(tensor_1, axis = 1)\n",
    "\n",
    "#In ra màn hình\n",
    "print(\"Tensor: \\n\",tensor_1)\n",
    "print(\"Tính tổng các phần tử trong tensor: \\n\",total_sum)\n",
    "print(\"Tính tổng tensor theo cột: \\n\", columm_tensor_sum)\n",
    "print(\"Tính tổng tensor theo hàng: \\n\",row_tensor_sum)\n"
   ]
  },
  {
   "cell_type": "markdown",
   "metadata": {},
   "source": [
    "Using tensorflow for Summation\n",
    "\n"
   ]
  },
  {
   "cell_type": "code",
   "execution_count": 23,
   "metadata": {},
   "outputs": [
    {
     "name": "stdout",
     "output_type": "stream",
     "text": [
      "Tensor: \n",
      " tf.Tensor(\n",
      "[[1 2]\n",
      " [3 4]], shape=(2, 2), dtype=int32)\n",
      "Tổng các phần tử trong tensor: \n",
      " tf.Tensor(10, shape=(), dtype=int32)\n",
      "Tính tổng tensor theo cột: \n",
      " tf.Tensor([4 6], shape=(2,), dtype=int32)\n",
      "Tính tổng tensor theo hàng: \n",
      " tensor([3, 7])\n"
     ]
    }
   ],
   "source": [
    "tensor_1_tf = tf.constant([[1, 2],[3, 4]])\n",
    "\n",
    "#Tính tổng tensor\n",
    "total_sum = tf.reduce_sum(tensor_1_tf)\n",
    "\n",
    "#Tính tổng tensor theo cột\n",
    "columm_tf_sum = tf.reduce_sum(tensor_1_tf, axis=0)\n",
    "\n",
    "#Tính tổng tensor theo hàng\n",
    "row_tf_sum = tf.reduce_sum(tensor_1_tf)\n",
    "\n",
    "#In ra màn hình\n",
    "print(\"Tensor: \\n\",tensor_1_tf)\n",
    "print(\"Tổng các phần tử trong tensor: \\n\",total_sum)\n",
    "print(\"Tính tổng tensor theo cột: \\n\",columm_tf_sum)\n",
    "print(\"Tính tổng tensor theo hàng: \\n\",row_tensor_sum)"
   ]
  },
  {
   "cell_type": "markdown",
   "metadata": {},
   "source": [
    "Using Numpy"
   ]
  },
  {
   "cell_type": "code",
   "execution_count": 40,
   "metadata": {},
   "outputs": [
    {
     "name": "stdout",
     "output_type": "stream",
     "text": [
      "[[-2  9  0  7]\n",
      " [-8  7  0 -6]\n",
      " [-5  4  1  6]]\n",
      "[[-2 -8 -5]\n",
      " [ 9  7  4]\n",
      " [ 0  0  1]\n",
      " [ 7 -6  6]]\n",
      "[[134  37  88]\n",
      " [ 37 149  32]\n",
      " [ 88  32  78]]\n"
     ]
    }
   ],
   "source": [
    "import random\n",
    "random.seed(2024)\n",
    "arr_1 = np.random.randint(-10, 10, size = (3,4))\n",
    "arr_2 = np.transpose(arr_1) \n",
    "print(arr_1)\n",
    "print(arr_2)\n",
    "arr_mul = np.dot(arr_1,arr_2)\n",
    "print(arr_mul)"
   ]
  },
  {
   "cell_type": "markdown",
   "metadata": {},
   "source": [
    "Using Pytorch"
   ]
  },
  {
   "cell_type": "code",
   "execution_count": 276,
   "metadata": {},
   "outputs": [
    {
     "name": "stdout",
     "output_type": "stream",
     "text": [
      "tensor([[ 6.4490,  9.7831,  6.5770,  5.1935],\n",
      "        [-7.1981,  4.3562, -1.5948,  5.0646],\n",
      "        [ 5.4584,  9.7957, -5.3483, -6.0102]])\n",
      "tensor([[ 6.4490, -7.1981,  5.4584],\n",
      "        [ 9.7831,  4.3562,  9.7957],\n",
      "        [ 6.5770, -1.5948, -5.3483],\n",
      "        [ 5.1935,  5.0646, -6.0102]])\n",
      "tensor([[207.5289,  12.0104,  64.6436],\n",
      "        [ 12.0104,  98.9823, -18.5274],\n",
      "        [ 64.6436, -18.5274, 190.4762]])\n"
     ]
    }
   ],
   "source": [
    "import random\n",
    "\n",
    "arr_1 = torch.rand(3, 4) *20 - 10\n",
    "arr_2 = torch.transpose(arr_1, dim0=0, dim1=1 ) \n",
    "print(arr_1)\n",
    "print(arr_2)\n",
    "arr_mul = torch.matmul(arr_1,arr_2) # nhân ma trận using pytorch\n",
    "print(arr_mul)"
   ]
  },
  {
   "cell_type": "markdown",
   "metadata": {},
   "source": [
    "Using Tensorflow"
   ]
  },
  {
   "cell_type": "code",
   "execution_count": 66,
   "metadata": {},
   "outputs": [
    {
     "name": "stdout",
     "output_type": "stream",
     "text": [
      "tf.Tensor(\n",
      "[[ 0.92443943 -0.09798241  5.672674    6.155098  ]\n",
      " [-0.9014988  -1.8432541   7.324583    5.4655743 ]\n",
      " [-6.704762    2.3129463  -8.0647135   4.8157387 ]], shape=(3, 4), dtype=float32)\n",
      "tf.Tensor(\n",
      "[[ 0.92443943 -0.9014988  -6.704762  ]\n",
      " [-0.09798241 -1.8432541   2.3129463 ]\n",
      " [ 5.672674    7.324583   -8.0647135 ]\n",
      " [ 6.155098    5.4655743   4.8157387 ]], shape=(4, 3), dtype=float32)\n",
      "tf.Tensor(\n",
      "[[ 70.92865   74.538345 -22.531925]\n",
      " [ 74.538345  87.7323   -30.968899]\n",
      " [-22.531925 -30.968899 138.5345  ]], shape=(3, 3), dtype=float32)\n"
     ]
    }
   ],
   "source": [
    "import random\n",
    "random.seed(2024)\n",
    "rows = 3\n",
    "cols = 4\n",
    "arr_1 = tf.random.uniform((rows, cols),minval=-10,maxval=10)\n",
    "arr_2 = tf.transpose(arr_1) \n",
    "print(arr_1)\n",
    "print(arr_2)\n",
    "arr_mul = tf.matmul(arr_1,arr_2) # nhân ma trận using pytorch\n",
    "print(arr_mul)"
   ]
  },
  {
   "cell_type": "markdown",
   "metadata": {},
   "source": [
    "Excercise 2:"
   ]
  },
  {
   "cell_type": "markdown",
   "metadata": {},
   "source": [
    "Using Numpy"
   ]
  },
  {
   "cell_type": "code",
   "execution_count": 266,
   "metadata": {},
   "outputs": [
    {
     "name": "stdout",
     "output_type": "stream",
     "text": [
      "[[-5  2  3]\n",
      " [-6  3  5]\n",
      " [ 9 -1  5]]\n",
      "[-2  4 13]\n",
      "[ 0  2 13]\n"
     ]
    }
   ],
   "source": [
    "random.seed = 2024\n",
    "arr = np.random.randint(-10,10, size=(3, 3))\n",
    "print(arr)\n",
    "arr_1 = np.sum(arr)\n",
    "arr_col_sum = np.sum(arr, axis=0)\n",
    "print(arr_col_sum)\n",
    "arr_row_sum = np.sum(arr, axis=1)\n",
    "print(arr_row_sum)"
   ]
  },
  {
   "cell_type": "markdown",
   "metadata": {},
   "source": [
    "Using Pytorch\n"
   ]
  },
  {
   "cell_type": "code",
   "execution_count": 269,
   "metadata": {},
   "outputs": [
    {
     "name": "stdout",
     "output_type": "stream",
     "text": [
      "tensor([[ 3.5401,  9.5630, -0.2570],\n",
      "        [ 4.5721,  7.8477,  3.8390],\n",
      "        [-5.5898,  4.1033,  8.0840]])\n",
      "Tensor: \n",
      " tensor(35.7025)\n",
      "Sum tensor axis = 0: \n",
      " tensor([ 2.5224, 21.5141, 11.6661])\n",
      "Sum tensor axis = 1: \n",
      " tensor([12.8461, 16.2588,  6.5976])\n"
     ]
    }
   ],
   "source": [
    "tensor_1 = torch.rand(3,3)* 20 - 10\n",
    "print(tensor_1)\n",
    "tensor_sum = torch.sum(tensor_1)\n",
    "print(\"Tensor: \\n\",tensor_sum)\n",
    "tensor_col_sum = torch.sum(tensor_1, axis=0)\n",
    "print(\"Sum tensor axis = 0: \\n\",tensor_col_sum)\n",
    "tensor_row_sum = torch.sum(tensor_1, axis=1)\n",
    "print(\"Sum tensor axis = 1: \\n\",tensor_row_sum)"
   ]
  },
  {
   "cell_type": "markdown",
   "metadata": {},
   "source": [
    "Using Tensorflow"
   ]
  },
  {
   "cell_type": "code",
   "execution_count": 193,
   "metadata": {},
   "outputs": [
    {
     "name": "stdout",
     "output_type": "stream",
     "text": [
      "tf.Tensor(\n",
      "[[ 4.594717   4.8401546 -1.9022827]\n",
      " [-5.09789    9.409943   4.558485 ]\n",
      " [-7.755511   1.5555811 -4.9947715]], shape=(3, 3), dtype=float32)\n",
      "tf.Tensor(5.208426, shape=(), dtype=float32)\n",
      "tf.Tensor([-8.258684  15.805678  -2.3385692], shape=(3,), dtype=float32)\n",
      "tf.Tensor([  7.532589   8.870538 -11.194701], shape=(3,), dtype=float32)\n"
     ]
    }
   ],
   "source": [
    "tensor_tf = tf.random.uniform((3, 3),-10,10)\n",
    "print(tensor_tf)\n",
    "tensor_tf_sum = tf.reduce_sum(tensor_tf)\n",
    "print(tensor_tf_sum)\n",
    "tensor_tf_col = tf.reduce_sum(tensor_tf, axis=0)\n",
    "print(tensor_tf_col)\n",
    "tensor_tf_row = tf.reduce_sum(tensor_tf, axis=1)\n",
    "print(tensor_tf_row)"
   ]
  }
 ],
 "metadata": {
  "kernelspec": {
   "display_name": "learntoho",
   "language": "python",
   "name": "python3"
  },
  "language_info": {
   "codemirror_mode": {
    "name": "ipython",
    "version": 3
   },
   "file_extension": ".py",
   "mimetype": "text/x-python",
   "name": "python",
   "nbconvert_exporter": "python",
   "pygments_lexer": "ipython3",
   "version": "3.9.16"
  }
 },
 "nbformat": 4,
 "nbformat_minor": 2
}
