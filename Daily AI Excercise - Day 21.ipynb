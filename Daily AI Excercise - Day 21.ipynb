{
 "cells": [
  {
   "cell_type": "code",
   "execution_count": 269,
   "metadata": {},
   "outputs": [
    {
     "name": "stdout",
     "output_type": "stream",
     "text": [
      "he who conquers himself is the mightiest warrior try not to become a man of success but rather become a man of value one man with courage makes a majority one secret of success in life is for a man to be ready for his opportunity when it comes the successful man will profit from his mistakes and try again in a different way a successful man is one who can lay a firm foundation with the bricks others have thrown at him success usually comes to those who are too busy looking for it we cannot solve problems with the kind of thinking we employed when we came up with them just one small positive thought in the morning can change your whole day you can get everything in life you want if you will just help enough other people get what they want\n"
     ]
    }
   ],
   "source": [
    "with open(\"data.txt\", \"r\") as f:\n",
    "    data = f.read().replace(\"\\n\",\" \").lower()\n",
    "print(data)\n"
   ]
  },
  {
   "cell_type": "code",
   "execution_count": 270,
   "metadata": {},
   "outputs": [
    {
     "name": "stdout",
     "output_type": "stream",
     "text": [
      "['a', 'again', 'and', 'are', 'at', 'be', 'become', 'bricks', 'busy', 'but', 'came', 'can', 'cannot', 'change', 'comes', 'conquers', 'courage', 'day', 'different', 'employed', 'enough', 'everything', 'firm', 'for', 'foundation', 'from', 'get', 'have', 'he', 'help', 'him', 'himself', 'his', 'if', 'in', 'is', 'it', 'just', 'kind', 'lay', 'life', 'looking', 'majority', 'makes', 'man', 'mightiest', 'mistakes', 'morning', 'not', 'of', 'one', 'opportunity', 'other', 'others', 'people', 'positive', 'problems', 'profit', 'rather', 'ready', 'secret', 'small', 'solve', 'success', 'successful', 'the', 'them', 'they', 'thinking', 'those', 'thought', 'thrown', 'to', 'too', 'try', 'up', 'usually', 'value', 'want', 'warrior', 'way', 'we', 'what', 'when', 'who', 'whole', 'will', 'with', 'you', 'your']\n",
      "['he', 'who', 'conquers', 'himself', 'is', 'the', 'mightiest', 'warrior', 'try', 'not', 'to', 'become', 'a', 'man', 'of', 'success', 'but', 'rather', 'become', 'a', 'man', 'of', 'value', 'one', 'man', 'with', 'courage', 'makes', 'a', 'majority', 'one', 'secret', 'of', 'success', 'in', 'life', 'is', 'for', 'a', 'man', 'to', 'be', 'ready', 'for', 'his', 'opportunity', 'when', 'it', 'comes', 'the', 'successful', 'man', 'will', 'profit', 'from', 'his', 'mistakes', 'and', 'try', 'again', 'in', 'a', 'different', 'way', 'a', 'successful', 'man', 'is', 'one', 'who', 'can', 'lay', 'a', 'firm', 'foundation', 'with', 'the', 'bricks', 'others', 'have', 'thrown', 'at', 'him', 'success', 'usually', 'comes', 'to', 'those', 'who', 'are', 'too', 'busy', 'looking', 'for', 'it', 'we', 'cannot', 'solve', 'problems', 'with', 'the', 'kind', 'of', 'thinking', 'we', 'employed', 'when', 'we', 'came', 'up', 'with', 'them', 'just', 'one', 'small', 'positive', 'thought', 'in', 'the', 'morning', 'can', 'change', 'your', 'whole', 'day', 'you', 'can', 'get', 'everything', 'in', 'life', 'you', 'want', 'if', 'you', 'will', 'just', 'help', 'enough', 'other', 'people', 'get', 'what', 'they', 'want']\n"
     ]
    }
   ],
   "source": [
    "distinct_words_befor = []\n",
    "for i in data.split(\" \"):\n",
    "    distinct_words_befor.append((i))\n",
    "distinct_words = (set(distinct_words_befor))\n",
    "print(sorted(distinct_words))\n",
    "print(distinct_words_befor)"
   ]
  },
  {
   "cell_type": "code",
   "execution_count": 279,
   "metadata": {},
   "outputs": [
    {
     "name": "stdout",
     "output_type": "stream",
     "text": [
      "is in data is 3\n",
      "a is most frequent word \n",
      "employed is most frequent word \n"
     ]
    }
   ],
   "source": [
    "\n",
    "def count_word(input_value):\n",
    "    max_value = 0\n",
    "    min_value = len(distinct_words_befor)\n",
    "    word_max = []\n",
    "    word_min = []\n",
    "    for i in (distinct_words):\n",
    "        count = distinct_words_befor.count(i)\n",
    "        if count < min_value:\n",
    "            min_value = count\n",
    "            word_min = i\n",
    "        if count > max_value:\n",
    "            max_value = count \n",
    "            word_max = i       \n",
    "        if i == input_value:\n",
    "            print(f'{(input)} in data is {count}')\n",
    "    print(f'{word_max} is most frequent word ')\n",
    "    print(f'{word_min} is most frequent word ')\n",
    "\n",
    "input = \"is\"\n",
    "result = count_word(input)\n",
    "\n",
    "   "
   ]
  },
  {
   "cell_type": "code",
   "execution_count": 277,
   "metadata": {},
   "outputs": [
    {
     "ename": "SyntaxError",
     "evalue": "unmatched ']' (1895626161.py, line 1)",
     "output_type": "error",
     "traceback": [
      "\u001b[1;36m  Cell \u001b[1;32mIn[277], line 1\u001b[1;36m\u001b[0m\n\u001b[1;33m    'he', 'who', 'conquers', 'himself', 'is', 'the', 'mightiest', 'warrior', 'try', 'not', 'to', 'become', 'a', 'man', 'of', 'success', 'but', 'rather', 'become', 'a', 'man', 'of', 'value', 'one', 'man', 'with', 'courage', 'makes', 'a', 'majority', 'one', 'secret', 'of', 'success', 'in', 'life', 'is', 'for', 'a', 'man', 'to', 'be', 'ready', 'for', 'his', 'opportunity', 'when', 'it', 'comes', 'the', 'successful', 'man', 'will', 'profit', 'from', 'his', 'mistakes', 'and', 'try', 'again', 'in', 'a', 'different', 'way', 'a', 'successful', 'man', 'is', 'one', 'who', 'can', 'lay', 'a', 'firm', 'foundation', 'with', 'the', 'bricks', 'others', 'have', 'thrown', 'at', 'him', 'success', 'usually', 'comes', 'to', 'those', 'who', 'are', 'too', 'busy', 'looking', 'for', 'it', 'we', 'cannot', 'solve', 'problems', 'with', 'the', 'kind', 'of', 'thinking', 'we', 'employed', 'when', 'we', 'came', 'up', 'with', 'them', 'just', 'one', 'small', 'positive', 'thought', 'in', 'the', 'morning', 'can', 'change', 'your', 'whole', 'day', 'you', 'can', 'get', 'everything', 'in', 'life', 'you', 'want', 'if', 'you', 'will', 'just', 'help', 'enough', 'other', 'people', 'get', 'what', 'they', 'want']\u001b[0m\n\u001b[1;37m                                                                                                                                                                                                                                                                                                                                                                                                                                                                                                                                                                                                                                                                                                                                                                                                                                                                                                                                                                                                                                                                                                                                                                                                                                 ^\u001b[0m\n\u001b[1;31mSyntaxError\u001b[0m\u001b[1;31m:\u001b[0m unmatched ']'\n"
     ]
    }
   ],
   "source": [
    "'he', 'who', 'conquers', 'himself', 'is', 'the', 'mightiest', 'warrior', 'try', 'not', 'to', 'become', 'a', 'man', 'of', 'success', 'but', 'rather', 'become', 'a', 'man', 'of', 'value', 'one', 'man', 'with', 'courage', 'makes', 'a', 'majority', 'one', 'secret', 'of', 'success', 'in', 'life', 'is', 'for', 'a', 'man', 'to', 'be', 'ready', 'for', 'his', 'opportunity', 'when', 'it', 'comes', 'the', 'successful', 'man', 'will', 'profit', 'from', 'his', 'mistakes', 'and', 'try', 'again', 'in', 'a', 'different', 'way', 'a', 'successful', 'man', 'is', 'one', 'who', 'can', 'lay', 'a', 'firm', 'foundation', 'with', 'the', 'bricks', 'others', 'have', 'thrown', 'at', 'him', 'success', 'usually', 'comes', 'to', 'those', 'who', 'are', 'too', 'busy', 'looking', 'for', 'it', 'we', 'cannot', 'solve', 'problems', 'with', 'the', 'kind', 'of', 'thinking', 'we', 'employed', 'when', 'we', 'came', 'up', 'with', 'them', 'just', 'one', 'small', 'positive', 'thought', 'in', 'the', 'morning', 'can', 'change', 'your', 'whole', 'day', 'you', 'can', 'get', 'everything', 'in', 'life', 'you', 'want', 'if', 'you', 'will', 'just', 'help', 'enough', 'other', 'people', 'get', 'what', 'they', 'want']"
   ]
  }
 ],
 "metadata": {
  "kernelspec": {
   "display_name": "learntoho",
   "language": "python",
   "name": "python3"
  },
  "language_info": {
   "codemirror_mode": {
    "name": "ipython",
    "version": 3
   },
   "file_extension": ".py",
   "mimetype": "text/x-python",
   "name": "python",
   "nbconvert_exporter": "python",
   "pygments_lexer": "ipython3",
   "version": "3.9.16"
  }
 },
 "nbformat": 4,
 "nbformat_minor": 2
}
