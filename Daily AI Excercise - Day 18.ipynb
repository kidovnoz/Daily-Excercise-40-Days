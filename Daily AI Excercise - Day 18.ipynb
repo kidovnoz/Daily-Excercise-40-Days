{
 "cells": [
  {
   "cell_type": "code",
   "execution_count": 4,
   "metadata": {},
   "outputs": [
    {
     "name": "stdout",
     "output_type": "stream",
     "text": [
      "['AI', 'listen', 'mucsic']\n"
     ]
    }
   ],
   "source": [
    "stop_words = [\"I\",\"love\",\"and\",\"to\"]\n",
    "input = \"I love AI and listen to mucsic\"\n",
    "result = [word for word in input.split(\" \") if word not in stop_words]\n",
    "print(result)"
   ]
  },
  {
   "cell_type": "code",
   "execution_count": 8,
   "metadata": {},
   "outputs": [
    {
     "name": "stdout",
     "output_type": "stream",
     "text": [
      "['AI', 'listen', 'mucsic']\n"
     ]
    }
   ],
   "source": [
    "result2 = []\n",
    "for words in input.split(\" \"):\n",
    "    if words not in stop_words:\n",
    "        result2.append(words)\n",
    "print(result2)"
   ]
  }
 ],
 "metadata": {
  "kernelspec": {
   "display_name": "learntoho",
   "language": "python",
   "name": "python3"
  },
  "language_info": {
   "codemirror_mode": {
    "name": "ipython",
    "version": 3
   },
   "file_extension": ".py",
   "mimetype": "text/x-python",
   "name": "python",
   "nbconvert_exporter": "python",
   "pygments_lexer": "ipython3",
   "version": "3.9.16"
  }
 },
 "nbformat": 4,
 "nbformat_minor": 2
}
