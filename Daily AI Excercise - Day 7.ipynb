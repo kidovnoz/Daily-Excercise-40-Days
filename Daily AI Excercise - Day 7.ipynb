{
 "cells": [
  {
   "cell_type": "code",
   "execution_count": 2,
   "metadata": {},
   "outputs": [],
   "source": [
    "corpus = ['Tôi thích môn Toán',\n",
    "          'Tôi thích AI',\n",
    "          'Tôi thích âm nhạc']"
   ]
  },
  {
   "cell_type": "code",
   "execution_count": 3,
   "metadata": {},
   "outputs": [
    {
     "name": "stdout",
     "output_type": "stream",
     "text": [
      "['Tôi', 'thích', 'môn', 'Toán', 'AI', 'âm', 'nhạc']\n"
     ]
    }
   ],
   "source": [
    "vocabulary = []\n",
    "for doc in corpus:\n",
    "    for word in doc.split(' '):\n",
    "        if word not in vocabulary:\n",
    "            vocabulary.append(word)\n",
    "print(vocabulary)\n"
   ]
  },
  {
   "cell_type": "code",
   "execution_count": 16,
   "metadata": {},
   "outputs": [
    {
     "name": "stdout",
     "output_type": "stream",
     "text": [
      "0\n",
      "1\n",
      "4\n",
      "1\n",
      "3\n",
      "[1, 2, 0, 1, 1, 0, 0]\n"
     ]
    }
   ],
   "source": [
    "given_string = 'Tôi thích AI thích Toán'\n",
    "given_string_tokenized = given_string.split(' ')\n",
    "# vector = [0 for _ in range(len(vocabulary))]\n",
    "vector = [0] * len(vocabulary)\n",
    "\n",
    "for word in given_string_tokenized:\n",
    "    if word in vocabulary:\n",
    "        idx = vocabulary.index(word)\n",
    "        print(idx)\n",
    "        vector[idx] += 1\n",
    "print(vector)\n"
   ]
  }
 ],
 "metadata": {
  "kernelspec": {
   "display_name": "LearningPython",
   "language": "python",
   "name": "python3"
  },
  "language_info": {
   "codemirror_mode": {
    "name": "ipython",
    "version": 3
   },
   "file_extension": ".py",
   "mimetype": "text/x-python",
   "name": "python",
   "nbconvert_exporter": "python",
   "pygments_lexer": "ipython3",
   "version": "3.9.18"
  }
 },
 "nbformat": 4,
 "nbformat_minor": 2
}
