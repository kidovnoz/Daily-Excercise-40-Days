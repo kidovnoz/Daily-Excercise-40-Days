{
 "cells": [
  {
   "cell_type": "code",
   "execution_count": 6,
   "metadata": {},
   "outputs": [
    {
     "name": "stdout",
     "output_type": "stream",
     "text": [
      "Yoga\n"
     ]
    }
   ],
   "source": [
    "#using if - elif ... - else\n",
    "time = input('Input time: ')\n",
    "if time == '5 AM':\n",
    "    print('Wake up')\n",
    "elif time == '6 AM':\n",
    "    print('Yoga')\n",
    "elif time == '7 AM':\n",
    "    print('Work')\n",
    "else:\n",
    "    print('Do something else')"
   ]
  },
  {
   "cell_type": "code",
   "execution_count": 4,
   "metadata": {},
   "outputs": [
    {
     "data": {
      "text/plain": [
       "'Do something else'"
      ]
     },
     "execution_count": 4,
     "metadata": {},
     "output_type": "execute_result"
    }
   ],
   "source": [
    "todo = {'5 AM': 'Wake up',\n",
    "        '6 AM': 'Yoga',\n",
    "        '7 AM': 'Work'}\n",
    "time = input('Input time: ')\n",
    "todo.get(time, \"Do something else\")"
   ]
  },
  {
   "cell_type": "code",
   "execution_count": 4,
   "metadata": {},
   "outputs": [
    {
     "name": "stdout",
     "output_type": "stream",
     "text": [
      "Do something else\n"
     ]
    }
   ],
   "source": [
    "time = input(\"Input Time: \")\n",
    "match time:\n",
    "    case '5 AM':\n",
    "        print('Wake up')\n",
    "    case '6 AM':\n",
    "        print('Yoga')\n",
    "    case '7 AM':\n",
    "        print('Work')\n",
    "    case _:\n",
    "        print('Do something else')\n",
    "    \n"
   ]
  }
 ],
 "metadata": {
  "kernelspec": {
   "display_name": "LearningPython",
   "language": "python",
   "name": "python3"
  },
  "language_info": {
   "codemirror_mode": {
    "name": "ipython",
    "version": 3
   },
   "file_extension": ".py",
   "mimetype": "text/x-python",
   "name": "python",
   "nbconvert_exporter": "python",
   "pygments_lexer": "ipython3",
   "version": "3.10.13"
  }
 },
 "nbformat": 4,
 "nbformat_minor": 2
}
