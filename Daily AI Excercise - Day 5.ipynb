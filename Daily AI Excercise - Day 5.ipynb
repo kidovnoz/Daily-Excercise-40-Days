{
 "cells": [
  {
   "cell_type": "code",
   "execution_count": 5,
   "metadata": {},
   "outputs": [
    {
     "name": "stdout",
     "output_type": "stream",
     "text": [
      "Danh sách mua sắm: \n",
      "1.Cà rốt\n",
      "2.Táo\n",
      "3.Cà chua\n"
     ]
    }
   ],
   "source": [
    "shopping_list = ['Cà rốt','Táo','Cà chua']\n",
    "print('Danh sách mua sắm: ')\n",
    "for index, item in enumerate(shopping_list,start=1):\n",
    "    print(f'{index}.{item}')"
   ]
  },
  {
   "cell_type": "code",
   "execution_count": 8,
   "metadata": {},
   "outputs": [
    {
     "name": "stdout",
     "output_type": "stream",
     "text": [
      "[['Bơ', 'Pizza', 'Sữa'], ['Xúc xích', 'Táo', 'Kem'], ['Cà rốt', 'Bánh dâu', 'Cupcake']]\n",
      "Sữa được tìmthấy ở hàng 1 và cột 3\n",
      "Táo được tìmthấy ở hàng 2 và cột 2\n",
      "Cà rốt được tìmthấy ở hàng 3 và cột 1\n"
     ]
    }
   ],
   "source": [
    "food_list = [\n",
    "            ['Bơ','Pizza','Sữa'],\n",
    "            ['Xúc xích','Táo','Kem'],\n",
    "            ['Cà rốt','Bánh dâu','Cupcake']\n",
    "]\n",
    "print(food_list)\n",
    "search_items = ['Cà rốt','Táo','Sữa'] \n",
    "for i in range(len(food_list)):\n",
    "    for j in range(len(food_list[i])):\n",
    "        if food_list[i][j] in search_items:\n",
    "            print(f'{food_list[i][j]} được tìm'\n",
    "                  f'thấy ở hàng {i+1} và cột {j+1}.')      \n"
   ]
  },
  {
   "cell_type": "code",
   "execution_count": 21,
   "metadata": {},
   "outputs": [
    {
     "name": "stdout",
     "output_type": "stream",
     "text": [
      "Sữa được tìm thấy ở hàng 1 và cột 3.\n",
      "Táo được tìm thấy ở hàng 2 và cột 2.\n",
      "Cà rốt được tìm thấy ở hàng 3 và cột 1.\n"
     ]
    }
   ],
   "source": [
    "for i, row in enumerate(food_list,start=1):\n",
    "    \n",
    "    for j, item in enumerate(row,start=1):\n",
    "        \n",
    "        if item in search_items:\n",
    "            print(f'{item} được tìm thấy '\n",
    "                  f'ở hàng {i} và cột {j}.')\n",
    "            "
   ]
  }
 ],
 "metadata": {
  "kernelspec": {
   "display_name": "Python 3",
   "language": "python",
   "name": "python3"
  },
  "language_info": {
   "codemirror_mode": {
    "name": "ipython",
    "version": 3
   },
   "file_extension": ".py",
   "mimetype": "text/x-python",
   "name": "python",
   "nbconvert_exporter": "python",
   "pygments_lexer": "ipython3",
   "version": "3.10.13"
  }
 },
 "nbformat": 4,
 "nbformat_minor": 2
}
