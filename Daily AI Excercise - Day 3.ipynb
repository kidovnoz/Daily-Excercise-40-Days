{
 "cells": [
  {
   "cell_type": "code",
   "execution_count": 55,
   "id": "98279fa1",
   "metadata": {},
   "outputs": [
    {
     "name": "stdout",
     "output_type": "stream",
     "text": [
      "[1, 2, 3, 4, 5, 6, 7, 8, 9, 10]\n"
     ]
    }
   ],
   "source": [
    "ls_data = [data for data in range(1,11)]\n",
    "print(ls_data)"
   ]
  },
  {
   "cell_type": "code",
   "execution_count": 37,
   "id": "515c80fc",
   "metadata": {},
   "outputs": [
    {
     "name": "stdout",
     "output_type": "stream",
     "text": [
      "[1, 2, 3, 4, 5]\n"
     ]
    }
   ],
   "source": [
    "print(ls_data[:5])"
   ]
  },
  {
   "cell_type": "code",
   "execution_count": 69,
   "id": "366fd307",
   "metadata": {},
   "outputs": [
    {
     "name": "stdout",
     "output_type": "stream",
     "text": [
      "[1, 3, 5, 7, 9]\n",
      "55\n"
     ]
    }
   ],
   "source": [
    "data = []\n",
    "for i in ls_data:\n",
    "    if (i%2) != 0:\n",
    "        data.append(i)\n",
    "print(data)\n",
    "result = 0\n",
    "for i in ls_data:\n",
    "    result = result + i\n",
    "print(result)"
   ]
  },
  {
   "cell_type": "code",
   "execution_count": null,
   "id": "66462a17",
   "metadata": {},
   "outputs": [],
   "source": []
  },
  {
   "cell_type": "code",
   "execution_count": null,
   "id": "ae52a5a3",
   "metadata": {},
   "outputs": [],
   "source": []
  }
 ],
 "metadata": {
  "kernelspec": {
   "display_name": "Python 3 (ipykernel)",
   "language": "python",
   "name": "python3"
  },
  "language_info": {
   "codemirror_mode": {
    "name": "ipython",
    "version": 3
   },
   "file_extension": ".py",
   "mimetype": "text/x-python",
   "name": "python",
   "nbconvert_exporter": "python",
   "pygments_lexer": "ipython3",
   "version": "3.9.13"
  }
 },
 "nbformat": 4,
 "nbformat_minor": 5
}
