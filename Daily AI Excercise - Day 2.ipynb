{
 "cells": [
  {
   "cell_type": "code",
   "execution_count": 96,
   "id": "332cc468",
   "metadata": {},
   "outputs": [],
   "source": [
    "import numpy as np\n",
    "def quadratic_equation(a, b, c):\n",
    "    x1 = 0\n",
    "    x2 = 0\n",
    "    delta = b*b - (4*a*c)\n",
    "    \n",
    "    if a == 0:\n",
    "        if b==0 and c==0:\n",
    "            print('PT vo nghiem')\n",
    "        elif b==0 and c!=0:\n",
    "            print('PT vo so nghiem')\n",
    "        elif b!=0:\n",
    "            x = -c/b\n",
    "            print(f'PT bac 1 co x = {x}')\n",
    "        \n",
    "    elif delta > 0:\n",
    "        x1 = (-b - np.sqrt(delta)) /(2*a)\n",
    "        x2 = (-b + np.sqrt(delta)) /(2*a)\n",
    "        print(f'PT co 2 nghiem phan biet x1 = {x1} va x2 = {x2}')\n",
    "    elif delta == 0:\n",
    "        \n",
    "        print(f'PT co nghiem kep x1=x2={-b/2*a}')\n",
    "    else:\n",
    "        print(f'PT vo nghiem')\n",
    "        \n",
    "    print(f'delta = {delta}')    \n",
    "    "
   ]
  },
  {
   "cell_type": "code",
   "execution_count": 99,
   "id": "c1427bd9",
   "metadata": {},
   "outputs": [
    {
     "name": "stdout",
     "output_type": "stream",
     "text": [
      "PT co nghiem kep x1=x2=-1.0\n",
      "delta = 0\n",
      "None\n"
     ]
    }
   ],
   "source": [
    "print(quadratic_equation(1, 2, 1))"
   ]
  },
  {
   "cell_type": "code",
   "execution_count": null,
   "id": "5ac587e0",
   "metadata": {},
   "outputs": [],
   "source": []
  },
  {
   "cell_type": "code",
   "execution_count": null,
   "id": "70d0c09c",
   "metadata": {},
   "outputs": [],
   "source": []
  },
  {
   "cell_type": "code",
   "execution_count": null,
   "id": "8764224e",
   "metadata": {},
   "outputs": [],
   "source": []
  }
 ],
 "metadata": {
  "kernelspec": {
   "display_name": "Python 3 (ipykernel)",
   "language": "python",
   "name": "python3"
  },
  "language_info": {
   "codemirror_mode": {
    "name": "ipython",
    "version": 3
   },
   "file_extension": ".py",
   "mimetype": "text/x-python",
   "name": "python",
   "nbconvert_exporter": "python",
   "pygments_lexer": "ipython3",
   "version": "3.9.13"
  }
 },
 "nbformat": 4,
 "nbformat_minor": 5
}
