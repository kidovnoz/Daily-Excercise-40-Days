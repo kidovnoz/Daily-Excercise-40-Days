{
 "cells": [
  {
   "cell_type": "code",
   "execution_count": 24,
   "metadata": {},
   "outputs": [
    {
     "ename": "FileNotFoundError",
     "evalue": "[WinError 3] The system cannot find the path specified: 'C:\\\\Users\\\\kido0\\\\AppData\\\\Local\\\\Temp\\\\.newspaper_scraper\\\\article_resources'",
     "output_type": "error",
     "traceback": [
      "\u001b[1;31m---------------------------------------------------------------------------\u001b[0m",
      "\u001b[1;31mFileNotFoundError\u001b[0m                         Traceback (most recent call last)",
      "Cell \u001b[1;32mIn[24], line 7\u001b[0m\n\u001b[0;32m      5\u001b[0m \u001b[38;5;66;03m# Tải bài báo\u001b[39;00m\n\u001b[0;32m      6\u001b[0m article\u001b[38;5;241m.\u001b[39mdownload()\n\u001b[1;32m----> 7\u001b[0m \u001b[43marticle\u001b[49m\u001b[38;5;241;43m.\u001b[39;49m\u001b[43mparse\u001b[49m\u001b[43m(\u001b[49m\u001b[43m)\u001b[49m\n\u001b[0;32m      9\u001b[0m \u001b[38;5;66;03m# In bài báo\u001b[39;00m\n\u001b[0;32m     10\u001b[0m \u001b[38;5;28mprint\u001b[39m(article\u001b[38;5;241m.\u001b[39mtext)\n",
      "File \u001b[1;32mc:\\Users\\kido0\\anaconda3\\envs\\learntoho\\lib\\site-packages\\newspaper\\article.py:264\u001b[0m, in \u001b[0;36mArticle.parse\u001b[1;34m(self)\u001b[0m\n\u001b[0;32m    261\u001b[0m \u001b[38;5;28mself\u001b[39m\u001b[38;5;241m.\u001b[39mfetch_images()\n\u001b[0;32m    263\u001b[0m \u001b[38;5;28mself\u001b[39m\u001b[38;5;241m.\u001b[39mis_parsed \u001b[38;5;241m=\u001b[39m \u001b[38;5;28;01mTrue\u001b[39;00m\n\u001b[1;32m--> 264\u001b[0m \u001b[38;5;28;43mself\u001b[39;49m\u001b[38;5;241;43m.\u001b[39;49m\u001b[43mrelease_resources\u001b[49m\u001b[43m(\u001b[49m\u001b[43m)\u001b[49m\n",
      "File \u001b[1;32mc:\\Users\\kido0\\anaconda3\\envs\\learntoho\\lib\\site-packages\\newspaper\\article.py:393\u001b[0m, in \u001b[0;36mArticle.release_resources\u001b[1;34m(self)\u001b[0m\n\u001b[0;32m    391\u001b[0m \u001b[38;5;28;01mdef\u001b[39;00m \u001b[38;5;21mrelease_resources\u001b[39m(\u001b[38;5;28mself\u001b[39m):\n\u001b[0;32m    392\u001b[0m     \u001b[38;5;66;03m# TODO: implement in entirety\u001b[39;00m\n\u001b[1;32m--> 393\u001b[0m     path \u001b[38;5;241m=\u001b[39m \u001b[38;5;28;43mself\u001b[39;49m\u001b[38;5;241;43m.\u001b[39;49m\u001b[43mget_resource_path\u001b[49m\u001b[43m(\u001b[49m\u001b[43m)\u001b[49m\n\u001b[0;32m    394\u001b[0m     \u001b[38;5;28;01mfor\u001b[39;00m fname \u001b[38;5;129;01min\u001b[39;00m glob\u001b[38;5;241m.\u001b[39mglob(path):\n\u001b[0;32m    395\u001b[0m         \u001b[38;5;28;01mtry\u001b[39;00m:\n",
      "File \u001b[1;32mc:\\Users\\kido0\\anaconda3\\envs\\learntoho\\lib\\site-packages\\newspaper\\article.py:387\u001b[0m, in \u001b[0;36mArticle.get_resource_path\u001b[1;34m(self)\u001b[0m\n\u001b[0;32m    385\u001b[0m resource_directory \u001b[38;5;241m=\u001b[39m os\u001b[38;5;241m.\u001b[39mpath\u001b[38;5;241m.\u001b[39mjoin(settings\u001b[38;5;241m.\u001b[39mTOP_DIRECTORY, res_dir_fn)\n\u001b[0;32m    386\u001b[0m \u001b[38;5;28;01mif\u001b[39;00m \u001b[38;5;129;01mnot\u001b[39;00m os\u001b[38;5;241m.\u001b[39mpath\u001b[38;5;241m.\u001b[39mexists(resource_directory):\n\u001b[1;32m--> 387\u001b[0m     \u001b[43mos\u001b[49m\u001b[38;5;241;43m.\u001b[39;49m\u001b[43mmkdir\u001b[49m\u001b[43m(\u001b[49m\u001b[43mresource_directory\u001b[49m\u001b[43m)\u001b[49m\n\u001b[0;32m    388\u001b[0m dir_path \u001b[38;5;241m=\u001b[39m os\u001b[38;5;241m.\u001b[39mpath\u001b[38;5;241m.\u001b[39mjoin(resource_directory, \u001b[38;5;124m'\u001b[39m\u001b[38;5;132;01m%s\u001b[39;00m\u001b[38;5;124m_\u001b[39m\u001b[38;5;124m'\u001b[39m \u001b[38;5;241m%\u001b[39m \u001b[38;5;28mself\u001b[39m\u001b[38;5;241m.\u001b[39mlink_hash)\n\u001b[0;32m    389\u001b[0m \u001b[38;5;28;01mreturn\u001b[39;00m dir_path\n",
      "\u001b[1;31mFileNotFoundError\u001b[0m: [WinError 3] The system cannot find the path specified: 'C:\\\\Users\\\\kido0\\\\AppData\\\\Local\\\\Temp\\\\.newspaper_scraper\\\\article_resources'"
     ]
    }
   ],
   "source": [
    "from newspaper import Article\n",
    "\n",
    "# Tạo một đối tượng Article từ URL của bài báo\n",
    "article2 = Article('https://vnexpress.net/ky-su-phan-mem-ai-dau-tien-tren-the-gioi-4722040.html')\n",
    "# Tải bài báo\n",
    "article2.download()\n",
    "article2.parse()\n",
    "\n",
    "# In bài báo\n",
    "print(article2.text)\n",
    "\n",
    "print(article2.images)"
   ]
  },
  {
   "cell_type": "code",
   "execution_count": null,
   "metadata": {},
   "outputs": [],
   "source": [
    "import nltk\n",
    "from nltk.tokenize import word_tokenize\n",
    "\n",
    "nltk.download(\"popular\")\n",
    "\n",
    "data = \"Tôi thích AI và Toán \"\n",
    "# bước 1 : Tokenization data\n",
    "tokenization = word_tokenize(data)\n",
    "\n",
    "# bước 2 : gọi thư viện Pos tagging\n",
    "result = nltk.pos_tag(tokenization)\n",
    "print(result)"
   ]
  }
 ],
 "metadata": {
  "kernelspec": {
   "display_name": "learntoho",
   "language": "python",
   "name": "python3"
  },
  "language_info": {
   "codemirror_mode": {
    "name": "ipython",
    "version": 3
   },
   "file_extension": ".py",
   "mimetype": "text/x-python",
   "name": "python",
   "nbconvert_exporter": "python",
   "pygments_lexer": "ipython3",
   "version": "3.9.16"
  }
 },
 "nbformat": 4,
 "nbformat_minor": 2
}
