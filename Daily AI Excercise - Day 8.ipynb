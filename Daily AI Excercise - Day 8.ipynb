{
 "cells": [
  {
   "cell_type": "code",
   "execution_count": 2,
   "metadata": {},
   "outputs": [
    {
     "name": "stdout",
     "output_type": "stream",
     "text": [
      "1.ca rot\n",
      "2.Tao\n",
      "3.Sua\n"
     ]
    }
   ],
   "source": [
    "shoping_list = [\"ca rot\",\"Tao\",\"Sua\"]\n",
    "\n",
    "for idx,item in enumerate(shoping_list,start=1):\n",
    "    print(f\"{idx}.{item}\")"
   ]
  },
  {
   "cell_type": "code",
   "execution_count": 18,
   "metadata": {},
   "outputs": [
    {
     "name": "stdout",
     "output_type": "stream",
     "text": [
      "['Ca Rot', 'Tao', 'Sua']\n",
      "Sua duoc tim thay o hang 1 va cot 3\n",
      "Tao duoc tim thay o hang 2 va cot 2\n",
      "Ca Rot duoc tim thay o hang 3 va cot 1\n"
     ]
    }
   ],
   "source": [
    "food_list = [[\"Bo\",\"Pizza\",\"Sua\"],\n",
    "                [\"Xuc Xich\",\"Tao\",\"Kem\"],\n",
    "                [\"Ca Rot\",\"Banh dau\",\"Cupcake\"]]\n",
    "search_item = [\"Ca Rot\",\"Tao\",\"Sua\"]\n",
    "print(search_item)\n",
    "for i in range(len(food_list)):\n",
    "    for j in range(len(food_list)):\n",
    "        if food_list[i][j] in search_item:\n",
    "            print(f\"{food_list[i][j]} duoc tim \"f\"thay o hang {i+1} va cot {j+1}\")\n"
   ]
  },
  {
   "cell_type": "code",
   "execution_count": 23,
   "metadata": {},
   "outputs": [
    {
     "name": "stdout",
     "output_type": "stream",
     "text": [
      "Sua duoc tim thay o hang 1 va cot 3\n",
      "Tao duoc tim thay o hang 2 va cot 2\n",
      "Ca Rot duoc tim thay o hang 3 va cot 1\n"
     ]
    }
   ],
   "source": [
    "food_list = [[\"Bo\",\"Pizza\",\"Sua\"],\n",
    "                [\"Xuc Xich\",\"Tao\",\"Kem\"],\n",
    "                [\"Ca Rot\",\"Banh dau\",\"Cupcake\"]]\n",
    "search_item = [\"Ca Rot\",\"Tao\",\"Sua\"]\n",
    "for i,row in enumerate(food_list,start=1):\n",
    "    for j,item in enumerate(row,start=1):\n",
    "        if item in search_item:\n",
    "            print(f\"{item} duoc tim thay o hang {i} va cot {j}\")"
   ]
  }
 ],
 "metadata": {
  "kernelspec": {
   "display_name": "learntoho",
   "language": "python",
   "name": "python3"
  },
  "language_info": {
   "codemirror_mode": {
    "name": "ipython",
    "version": 3
   },
   "file_extension": ".py",
   "mimetype": "text/x-python",
   "name": "python",
   "nbconvert_exporter": "python",
   "pygments_lexer": "ipython3",
   "version": "3.9.16"
  }
 },
 "nbformat": 4,
 "nbformat_minor": 2
}
