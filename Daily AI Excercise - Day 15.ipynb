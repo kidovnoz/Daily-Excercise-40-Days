{
 "cells": [
  {
   "cell_type": "code",
   "execution_count": 185,
   "metadata": {},
   "outputs": [
    {
     "name": "stdout",
     "output_type": "stream",
     "text": [
      "[1.4, 1.4, 1.4, 1.4, 1.4, 1.5, 1.5, 2.0]\n"
     ]
    }
   ],
   "source": [
    "lst_data = [None,None,None,1.4,None,1.5,None,2.0]\n",
    "lst_data = list(lst_data)\n",
    "#Nearest Neighbor\n",
    "for idx , val in enumerate (lst_data):\n",
    "    if idx == 0 and val == None:\n",
    "        i = 1\n",
    "        while(lst_data[i] == None):\n",
    "            i += 1\n",
    "        lst_data[idx] = lst_data[i]\n",
    "    if lst_data[idx] == None :\n",
    "        lst_data[idx] = lst_data[idx-1]\n",
    "print(lst_data)\n",
    "        "
   ]
  }
 ],
 "metadata": {
  "kernelspec": {
   "display_name": "learntoho",
   "language": "python",
   "name": "python3"
  },
  "language_info": {
   "codemirror_mode": {
    "name": "ipython",
    "version": 3
   },
   "file_extension": ".py",
   "mimetype": "text/x-python",
   "name": "python",
   "nbconvert_exporter": "python",
   "pygments_lexer": "ipython3",
   "version": "3.9.16"
  }
 },
 "nbformat": 4,
 "nbformat_minor": 2
}
