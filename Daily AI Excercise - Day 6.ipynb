{
 "cells": [
  {
   "cell_type": "code",
   "execution_count": 23,
   "metadata": {},
   "outputs": [
    {
     "name": "stdout",
     "output_type": "stream",
     "text": [
      "[1, 2, 3, 4, 5, 6, 7, 8, 9, 10]\n",
      "5.5\n"
     ]
    }
   ],
   "source": [
    "ls_data = []\n",
    "for i in range(1,11):\n",
    "    ls_data.append(i)\n",
    "print(ls_data)\n",
    "N = len(ls_data)\n",
    "for i in ls_data:\n",
    "    if len(ls_data) %2 ==0:   \n",
    "        m = (ls_data[int(N/2)-1] + ls_data[int(N/2)]) / 2\n",
    "    if len(ls_data) %2 !=0:\n",
    "        m = (ls_data[int((N+1)/2)-1])\n",
    "print(m)\n"
   ]
  },
  {
   "cell_type": "code",
   "execution_count": 24,
   "metadata": {},
   "outputs": [
    {
     "name": "stdout",
     "output_type": "stream",
     "text": [
      "[9, 7, 5, 3, 1]\n"
     ]
    }
   ],
   "source": [
    "new_ls_data = []\n",
    "for i in ls_data:\n",
    "    if i %2 != 0:\n",
    "        new_ls_data.append(i)\n",
    "new_ls_data.sort(reverse=True)\n",
    "print(new_ls_data)\n"
   ]
  }
 ],
 "metadata": {
  "kernelspec": {
   "display_name": "Python 3",
   "language": "python",
   "name": "python3"
  },
  "language_info": {
   "codemirror_mode": {
    "name": "ipython",
    "version": 3
   },
   "file_extension": ".py",
   "mimetype": "text/x-python",
   "name": "python",
   "nbconvert_exporter": "python",
   "pygments_lexer": "ipython3",
   "version": "3.10.13"
  }
 },
 "nbformat": 4,
 "nbformat_minor": 2
}
